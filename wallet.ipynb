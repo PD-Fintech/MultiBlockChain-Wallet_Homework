{
 "cells": [
  {
   "cell_type": "code",
   "execution_count": 1,
   "id": "extensive-covering",
   "metadata": {},
   "outputs": [
    {
     "data": {
      "text/plain": [
       "True"
      ]
     },
     "execution_count": 1,
     "metadata": {},
     "output_type": "execute_result"
    }
   ],
   "source": [
    "# importing libraries\n",
    "from constants import *\n",
    "import os\n",
    "from dotenv import load_dotenv\n",
    "import subprocess\n",
    "import json\n",
    "from eth_account import Account\n",
    "from bit import PrivateKeyTestnet\n",
    "from web3 import Web3\n",
    "from web3.middleware import geth_poa_middleware\n",
    "from bit.network import NetworkAPI\n",
    "from web3.gas_strategies.time_based import medium_gas_price_strategy\n",
    "load_dotenv()"
   ]
  },
  {
   "cell_type": "code",
   "execution_count": 2,
   "id": "integral-dynamics",
   "metadata": {},
   "outputs": [
    {
     "name": "stdout",
     "output_type": "stream",
     "text": [
      "betray chicken pistol half scorpion diary action master oil such shoe swallow suffer project custom\n"
     ]
    }
   ],
   "source": [
    "# calling mnemonic environment variable\n",
    "mnemonic = os.getenv('MNEMONIC')\n",
    "print(mnemonic)"
   ]
  },
  {
   "cell_type": "code",
   "execution_count": 3,
   "id": "neural-simple",
   "metadata": {},
   "outputs": [],
   "source": [
    "# Define function to derive wallet\n",
    "def derive_wallets(mnemonic, coin, numderive):\n",
    "    \"\"\"Use the subprocess library to call the php file script from Python\"\"\"\n",
    "    command = f'php ./hd-wallet-derive/hd-wallet-derive.php -g --mnemonic=\"{mnemonic}\" --numderive=\"{numderive}\" --coin=\"{coin}\" --format=json' \n",
    "    \n",
    "    p = subprocess.Popen(command, stdout=subprocess.PIPE, shell=True)\n",
    "    (output, err) = p.communicate()\n",
    "   \n",
    "    keys = json.loads(output)\n",
    "    return  keys"
   ]
  },
  {
   "cell_type": "code",
   "execution_count": 4,
   "id": "instructional-fantasy",
   "metadata": {},
   "outputs": [
    {
     "data": {
      "text/plain": [
       "[{'path': \"m/44'/2'/0'/0/0\",\n",
       "  'address': 'LbxyBY6J8E6kL8hKyRzmz67SCdsenS7dBu',\n",
       "  'xprv': 'xprvA2rawaWqD5mgHXuJcu435Nhu7fo61QkpfjaZeKrCiT17mXU1zAJwmEkgFsQYET8zTjNJtVKJvs2YUZLuFDfA6ws9s1YB7UcCAHGQRmaTNjC',\n",
       "  'xpub': 'xpub6FqwM63j3TKyW1ymivb3SWedfhdaQsUg2xWASiFpGnY6eKoAXhdCK35A77kT3iJ8y5RbZyxXoxsYJEPd2GoX1swEpwrw28aXkjPN6Jug5bL',\n",
       "  'privkey': 'T8mCB7et6P7wCwpKf74NvQSuYiRHfKUDapte7jQREmtyzPXDRwkd',\n",
       "  'pubkey': '024fe4a2f0be2d5d824341a3025cf647d251479093114a874dac5e156d00c05177',\n",
       "  'pubkeyhash': 'b7a4aa96368e5d7c70994517d3ea165c374b2589',\n",
       "  'index': 0},\n",
       " {'path': \"m/44'/2'/0'/0/1\",\n",
       "  'address': 'LMR5YGRoYVWmYo6hpRSAWYqPe586XonvE7',\n",
       "  'xprv': 'xprvA2rawaWqD5mgLMPEntsqMcfjF7DfKgLcpFuGdLWBoCyM96zGnZAC9oBwhisjUTXbd1AEafuv7wHqzA5mPE1J925Loi9XKQrpar334VqAbJN',\n",
       "  'xpub': 'xpub6FqwM63j3TKyYqThtvQqikcTo949j94UBUpsRiuoMYWL1uKRL6UShbWRZ156Yyqff3SkegubqcXeYM6yP9R9fvj7YkvEKPUQKqjkqZSewuY',\n",
       "  'privkey': 'T4kGfDksdwKoB5JWru3YZk1LkVMd3z5phM6JZjbFuxXY3Dqh9Vtq',\n",
       "  'pubkey': '02cc0db9fe88ef2f1ad94f6f15bd6eaab308e192385fe8b81741f053e886fd04e2',\n",
       "  'pubkeyhash': '180ae6c90d18ffa11d086df1ff13e16494c93e78',\n",
       "  'index': 1},\n",
       " {'path': \"m/44'/2'/0'/0/2\",\n",
       "  'address': 'Lf1y3UsKSbCd2EZwY4niXZj8h1Y7yMbzhm',\n",
       "  'xprv': 'xprvA2rawaWqD5mgNK2pdhLmhoNk2ptWHDghTfGhFtwhPM94tpapeTZZrRaXQP8RmiUozQLvdNDvvGFeBx6PicxwepngJNbk5CzQjowHY8NjnbN',\n",
       "  'xpub': 'xpub6FqwM63j3TKyao7Hjisn4wKUarizggQYptCJ4HMJwgg3mcuyBzspQDu1Fe5aHz5Ms6J2LRgnGn1XvTEaG9ZWdDZQdV6txEqwSqiJt8QoXSs',\n",
       "  'privkey': 'T4eGnM1sJYS7EoVxEMkR4qFWpc5SsZhdMpzEvCyUFewufdbqvVLa',\n",
       "  'pubkey': '0224fde14ffda1157f2df578bd8c4b19b51f0d540f0e4d8c4a187777fab37d72d5',\n",
       "  'pubkeyhash': 'd91e2cf78c5b1148dd681e21ef5bd1d95ec2a276',\n",
       "  'index': 2}]"
      ]
     },
     "execution_count": 4,
     "metadata": {},
     "output_type": "execute_result"
    }
   ],
   "source": [
    "# Test the function derive_wallets\n",
    "derive_wallets(mnemonic, 'LTC', 3)"
   ]
  },
  {
   "cell_type": "code",
   "execution_count": 5,
   "id": "departmental-headquarters",
   "metadata": {},
   "outputs": [],
   "source": [
    "# function to call derive_wallets function for BTCTEST and ETH currencies and output a dictionary\n",
    "# with derived information for three accounts per coin\n",
    "def coins():\n",
    "\n",
    "    coin_dict = {\n",
    "        'btc' : derive_wallets(mnemonic, BTC, 3),\n",
    "        'eth' : derive_wallets(mnemonic, ETH, 3),\n",
    "        'btc-test' : derive_wallets(mnemonic, BTCTEST, 3),\n",
    "        'ltc' : derive_wallets(mnemonic, LTC, 3)\n",
    "    }\n",
    "    \n",
    "    return coin_dict"
   ]
  },
  {
   "cell_type": "code",
   "execution_count": 6,
   "id": "herbal-mason",
   "metadata": {},
   "outputs": [
    {
     "data": {
      "text/plain": [
       "{'btc': [{'path': \"m/44'/0'/0'/0/0\",\n",
       "   'address': '1J6Eb835sH5NhJkvzJfAuwr34Ynxb2yzvc',\n",
       "   'xprv': 'xprvA4FVNBxw44hMEgjk7u1bAwwnejrrtVCD35jbr7vNAd1RFxwEG1iMLkGqPxGPL1EmcSvwKrkaSjrtsDaRAPARfhTccHzfytvDX6q8tQpy8uZ',\n",
       "   'xpub': 'xpub6HEqmhVptSFeTApDDvYbY5tXCmhMHwv4QJfCeWKyixYQ8mGNoZ2btYbKFDhVb8UTWDky7qSZhDS7VzSJKVxMtf8aRch4QsrbF78cZeKMTki',\n",
       "   'privkey': 'L5SZ873gVFbC7BZ3kpP25fs9LrfBzWzBiafZ645tbyHG3zP7aKzF',\n",
       "   'pubkey': '032a4e82eee8462e367fd1cbe5b06059c5a34aea1b020a70063b96917a1cde6058',\n",
       "   'pubkeyhash': 'bb778fa282d2b583ecd3c11443772ffe1aeccb6d',\n",
       "   'index': 0},\n",
       "  {'path': \"m/44'/0'/0'/0/1\",\n",
       "   'address': '1DnukdksZe6rwLtCBkKZqAeomEBb5TX1r9',\n",
       "   'xprv': 'xprvA4FVNBxw44hMGbotawg7wn6DXG5di1dVkMW2b8ypS7uqspm2vKYRNKQCk9m2izCRfQX6CR4tBjeczuDEPhivhYKweCR1DZPVdXgVr9WwCWn',\n",
       "   'xpub': 'xpub6HEqmhVptSFeV5tMgyD8Jv2x5Hv87UMM7aRdPXPRzTSpkd6BTrrfv7igbR16S1NffaBuBovdY2XjPXW8R8NbwpgiMqxCTqMfWvyRi733uJV',\n",
       "   'privkey': 'L1rLYpwJcDLLcHW2WmiyUFLhgK4Aayj5LAkXZT4eb45bggbkRg66',\n",
       "   'pubkey': '02a61d82629b818535455f9236103e29a96905a5219fdb1c6f6d093967f5ec6158',\n",
       "   'pubkeyhash': '8c50435a10e533f509b90373c0410b070fdbed5d',\n",
       "   'index': 1},\n",
       "  {'path': \"m/44'/0'/0'/0/2\",\n",
       "   'address': '16ZeKGZJcSKx1ZH9R2mc7CQ7584YN2nNXx',\n",
       "   'xprv': 'xprvA4FVNBxw44hML4R93yy9PjFJaiz5zcdq631pvRxfravaC3AWKN6PrieCs1etAQLuLYNi44mt9MBMuUzizuZPMLfYaqpfRiV6yUKd1x8cUHa',\n",
       "   'xpub': 'xpub6HEqmhVptSFeYYVcA1W9ksC38kpaQ5MgTFwRipNHQvTZ4qVeruQeQWxgiFiNQci3tQdbnQJCEMQwotJRVi94ve1LAAK3dRzYYy12GbMpddj',\n",
       "   'privkey': 'L5H588PgzxbjYmzjuyYMJkqCrcyxbFinKc2smxLfP2oyVxnUU2CJ',\n",
       "   'pubkey': '0270a3a706a86e7758f0e9221a56e8b1adfe48b8795eabd9e1a3b3e6464bfcf045',\n",
       "   'pubkeyhash': '3d0516b2adcb71fca2f728941aebec43f796128e',\n",
       "   'index': 2}],\n",
       " 'eth': [{'path': \"m/44'/60'/0'/0/0\",\n",
       "   'address': '0xacFd8AA17a975A362477A5503C762b3EEe29b245',\n",
       "   'xprv': 'xprvA3rdV4yFGGFrvHzY6zcSRwsTj1WXTkZbm5TuamcSnUcLH2vHh5psxfWKtNx8UMesJpaDzwZcy2E1d9KkuDhAhG5nnX9gUPQsxxRVPUBh2cK',\n",
       "   'xpub': 'xpub6GqytaW96dpA8n51D29So5pCH3M1sDHT8JPWPA24Lp9K9qFSEd98WTpojeSctQoJSnmmvbqSFvHgKH2ENhsDtxR5bTrVkzcdoweAjSiGSE4',\n",
       "   'privkey': '0xa5816b2eaf6965fd52ec4d5ece271fb6f82264488306fa095b1510a6cee1a03c',\n",
       "   'pubkey': '02e22f5562f9bc58753c624c7d2a543600458a2e5ffd9d332e0cd4ca51aaac2308',\n",
       "   'pubkeyhash': 'c75686bb55a67ac724626a88fa45071b6b237931',\n",
       "   'index': 0},\n",
       "  {'path': \"m/44'/60'/0'/0/1\",\n",
       "   'address': '0x30b3B7C9aE324A9C7830e2Ff22C159307e926428',\n",
       "   'xprv': 'xprvA3rdV4yFGGFrxnRo4WsZ4M4XCj4j8c1TSLnZxzBy2Nvt7SFZGZzN5XFKFpvndmFZLrmicYFk96vKw6LLA9kt5MbdTMdUq7kyh8KZutCptae',\n",
       "   'xpub': 'xpub6GqytaW96dpABGWGAYQZRV1FkkuDY4jJoZiAmNbaaiTrzEahp7JcdKZo75zkRyT6hDbxUXpsBrZUweJtFn5YziAjQYJkBmjwRmGHY4x29uB',\n",
       "   'privkey': '0xd1d318ee9926c6bd4886372812c20d75a545caa60389d35aa08cd68f9b4bfff2',\n",
       "   'pubkey': '02d6cf740be26f13527a710029da296aef014e5d78e3bbfa3cbf8b25fa12c7b06f',\n",
       "   'pubkeyhash': '788208a4d556e3be2115cda42d65b1c99b6df600',\n",
       "   'index': 1},\n",
       "  {'path': \"m/44'/60'/0'/0/2\",\n",
       "   'address': '0xD9fD448fDCc5E57E8356aF105d45A5D058267095',\n",
       "   'xprv': 'xprvA3rdV4yFGGFs3BmCGPantcN9wuLjp6snFS46fVemMNFS9ghrP8ZQN4JsMQBzW1XD45P1Bis32KeDBGXfxTQoD8QDfxM4Bm6XL69TqBDXrVW',\n",
       "   'xpub': 'xpub6GqytaW96dpAFfqfNR7oFkJtVwBEDZbdceyhTt4NuhnR2V2zvfseurdMChxwbQDh5SBUAjKbKi53FupRfE9j5dXJWzuzkGYAyNoWBa6aTQv',\n",
       "   'privkey': '0x8ff1cb52c518ec21283e4eef455c09919712a669812b0703040edfcf156b0e31',\n",
       "   'pubkey': '03f963f31e17a992581ca9124d022b60c24473c4eb14ec51369fe7de08eb7c43bf',\n",
       "   'pubkeyhash': 'ffb430018b4cf9f3a92ecebb41e52f77bf968c98',\n",
       "   'index': 2}],\n",
       " 'btc-test': [{'path': \"m/44'/1'/0'/0/0\",\n",
       "   'address': 'n37EzV96Zbh9VrJATBsftJx4GsDheJ9Lb2',\n",
       "   'xprv': 'tprv8jbgjBVJfh8VYxQ6wVeogLZggMjffkXuKDCXBjXgpUxzfBCbSLNQETDijgBv6WFNSBQyCxMjFU8TwQayFjFPAckjDZJS9ZnLPgAnZtGd25j',\n",
       "   'xpub': 'tpubDGHisbXYp4pASRRtq9KQ5kDoFPFbq5iotWoJUFZzEkmPVfTN4jBzQwqauobBSokiqXEnVtdYvfu3BJ9L9kbG96Njy7s25cWPGbk7rz9V4N3',\n",
       "   'privkey': 'cURHahiknDCQ74uHxr5PTVzvuvcd6NDpapUoWF6DvpF14XY6Zorb',\n",
       "   'pubkey': '0307e4528874a51821f8c0f94cddb17e3bb5192294cfdf18ba2aaeed1de9f7de09',\n",
       "   'pubkeyhash': 'ecd6b8e21374a5cb6c7c6bdad772399a1cdcc33c',\n",
       "   'index': 0},\n",
       "  {'path': \"m/44'/1'/0'/0/1\",\n",
       "   'address': 'mviPTU8ewY5wwxZUqtCoCGBsxnx7kWQuZF',\n",
       "   'xprv': 'tprv8jbgjBVJfh8VaFboqUWZe7hr2NXXTBTydxQB6NhNVzgEnjjBdqSHkS2EAFXhjvzP5zKc5PwhXWgmxYT5ME2qhAutdWHXFYdTJ9dvz1pc3SU',\n",
       "   'xpub': 'tpubDGHisbXYp4pATidbj8BA3XMxbQ3TcWetDFzxNtjfvGUddDyxGEFsvve6LRF5YxZTuBEyMzQPnVpanEnv9BZwSNin8BQxcBvwg2xeFGYyMcT',\n",
       "   'privkey': 'cMdGvnJ2Cgvc9wXFr6ffojaWYonNMRghfdkzFDStx7QuooBUUdWX',\n",
       "   'pubkey': '036db6c14e21afdc5e4f508a80f25fbc4a8e2ff94dc94f64640e51d74449f473dd',\n",
       "   'pubkeyhash': 'a6b3777f23267c726bf8e57c0d92039997a22b9a',\n",
       "   'index': 1},\n",
       "  {'path': \"m/44'/1'/0'/0/2\",\n",
       "   'address': 'n3LUACXpQwtkCiKNBEeASurVxUTd1nmgAh',\n",
       "   'xprv': 'tprv8jbgjBVJfh8VcwqCwCmX4MgfJzVE1ACDZPHbq7BmwKd246wFMZmL2p1DkLzP2NFNww9zEzCrsaDBBvYd8Wx8TG9jaa8v2n9pUVBqjcuwPcb',\n",
       "   'xpub': 'tpubDGHisbXYp4pAWQrzprS7TmLmt21AAVP88gtP7dE5MbRQtbC1yxavDJd5vUSoncuwqzqYBzMGeBVA67s7DTvXFAdZu6jFUrpiYcUL8gnzr7G',\n",
       "   'privkey': 'cUiW7jWG2i6rT4wM4r42NB3n46pP4ib1wy9GZTSoWkiPsBY36t54',\n",
       "   'pubkey': '0317edcb196876378e63124341335002989953b6bb1f69e0d019f86dcdfc580fbb',\n",
       "   'pubkeyhash': 'ef571f11615c54a392e22891b4cb940396d1cfe4',\n",
       "   'index': 2}],\n",
       " 'ltc': [{'path': \"m/44'/2'/0'/0/0\",\n",
       "   'address': 'LbxyBY6J8E6kL8hKyRzmz67SCdsenS7dBu',\n",
       "   'xprv': 'xprvA2rawaWqD5mgHXuJcu435Nhu7fo61QkpfjaZeKrCiT17mXU1zAJwmEkgFsQYET8zTjNJtVKJvs2YUZLuFDfA6ws9s1YB7UcCAHGQRmaTNjC',\n",
       "   'xpub': 'xpub6FqwM63j3TKyW1ymivb3SWedfhdaQsUg2xWASiFpGnY6eKoAXhdCK35A77kT3iJ8y5RbZyxXoxsYJEPd2GoX1swEpwrw28aXkjPN6Jug5bL',\n",
       "   'privkey': 'T8mCB7et6P7wCwpKf74NvQSuYiRHfKUDapte7jQREmtyzPXDRwkd',\n",
       "   'pubkey': '024fe4a2f0be2d5d824341a3025cf647d251479093114a874dac5e156d00c05177',\n",
       "   'pubkeyhash': 'b7a4aa96368e5d7c70994517d3ea165c374b2589',\n",
       "   'index': 0},\n",
       "  {'path': \"m/44'/2'/0'/0/1\",\n",
       "   'address': 'LMR5YGRoYVWmYo6hpRSAWYqPe586XonvE7',\n",
       "   'xprv': 'xprvA2rawaWqD5mgLMPEntsqMcfjF7DfKgLcpFuGdLWBoCyM96zGnZAC9oBwhisjUTXbd1AEafuv7wHqzA5mPE1J925Loi9XKQrpar334VqAbJN',\n",
       "   'xpub': 'xpub6FqwM63j3TKyYqThtvQqikcTo949j94UBUpsRiuoMYWL1uKRL6UShbWRZ156Yyqff3SkegubqcXeYM6yP9R9fvj7YkvEKPUQKqjkqZSewuY',\n",
       "   'privkey': 'T4kGfDksdwKoB5JWru3YZk1LkVMd3z5phM6JZjbFuxXY3Dqh9Vtq',\n",
       "   'pubkey': '02cc0db9fe88ef2f1ad94f6f15bd6eaab308e192385fe8b81741f053e886fd04e2',\n",
       "   'pubkeyhash': '180ae6c90d18ffa11d086df1ff13e16494c93e78',\n",
       "   'index': 1},\n",
       "  {'path': \"m/44'/2'/0'/0/2\",\n",
       "   'address': 'Lf1y3UsKSbCd2EZwY4niXZj8h1Y7yMbzhm',\n",
       "   'xprv': 'xprvA2rawaWqD5mgNK2pdhLmhoNk2ptWHDghTfGhFtwhPM94tpapeTZZrRaXQP8RmiUozQLvdNDvvGFeBx6PicxwepngJNbk5CzQjowHY8NjnbN',\n",
       "   'xpub': 'xpub6FqwM63j3TKyao7Hjisn4wKUarizggQYptCJ4HMJwgg3mcuyBzspQDu1Fe5aHz5Ms6J2LRgnGn1XvTEaG9ZWdDZQdV6txEqwSqiJt8QoXSs',\n",
       "   'privkey': 'T4eGnM1sJYS7EoVxEMkR4qFWpc5SsZhdMpzEvCyUFewufdbqvVLa',\n",
       "   'pubkey': '0224fde14ffda1157f2df578bd8c4b19b51f0d540f0e4d8c4a187777fab37d72d5',\n",
       "   'pubkeyhash': 'd91e2cf78c5b1148dd681e21ef5bd1d95ec2a276',\n",
       "   'index': 2}]}"
      ]
     },
     "execution_count": 6,
     "metadata": {},
     "output_type": "execute_result"
    }
   ],
   "source": [
    "# testing output\n",
    "coins()"
   ]
  },
  {
   "cell_type": "code",
   "execution_count": 7,
   "id": "patent-participation",
   "metadata": {},
   "outputs": [
    {
     "data": {
      "text/plain": [
       "'0xa5816b2eaf6965fd52ec4d5ece271fb6f82264488306fa095b1510a6cee1a03c'"
      ]
     },
     "execution_count": 7,
     "metadata": {},
     "output_type": "execute_result"
    }
   ],
   "source": [
    "# testing a call of a private key from the dictionary output\n",
    "coins()[ETH][0]['privkey']"
   ]
  },
  {
   "cell_type": "code",
   "execution_count": 8,
   "id": "accessory-horizontal",
   "metadata": {},
   "outputs": [
    {
     "data": {
      "text/plain": [
       "'cMdGvnJ2Cgvc9wXFr6ffojaWYonNMRghfdkzFDStx7QuooBUUdWX'"
      ]
     },
     "execution_count": 8,
     "metadata": {},
     "output_type": "execute_result"
    }
   ],
   "source": [
    "btc_PrivateKey = coins()[BTCTEST][1]['privkey']\n",
    "btc_PrivateKey"
   ]
  },
  {
   "cell_type": "code",
   "execution_count": 9,
   "id": "divine-exhibition",
   "metadata": {},
   "outputs": [],
   "source": [
    "# function to convert private key into a readable format for web3 / bit\n",
    "def priv_key_to_account (coin, priv_key):\n",
    "    \n",
    "    if coin == ETH:\n",
    "        return Account.privateKeyToAccount(priv_key)\n",
    "    elif coin == BTCTEST:\n",
    "        return PrivateKeyTestnet(priv_key)\n",
    "    elif coin == LTC:\n",
    "        return Account.privateKeyToAccount(priv_key)"
   ]
  },
  {
   "cell_type": "code",
   "execution_count": 10,
   "id": "mechanical-norwegian",
   "metadata": {},
   "outputs": [
    {
     "name": "stdout",
     "output_type": "stream",
     "text": [
      "<eth_account.signers.local.LocalAccount object at 0x000001E77D5C40D0>\n"
     ]
    }
   ],
   "source": [
    "# setting sender ETH account\n",
    "eth_account = priv_key_to_account(ETH,coins()[ETH][0]['privkey'])\n",
    "\n",
    "print(eth_account)"
   ]
  },
  {
   "cell_type": "code",
   "execution_count": 11,
   "id": "labeled-identifier",
   "metadata": {},
   "outputs": [
    {
     "name": "stdout",
     "output_type": "stream",
     "text": [
      "0x30b3B7C9aE324A9C7830e2Ff22C159307e926428\n"
     ]
    }
   ],
   "source": [
    "# setting a receiver ETH address\n",
    "eth_address = coins()[ETH][1]['address']\n",
    "\n",
    "print(eth_address)"
   ]
  },
  {
   "cell_type": "code",
   "execution_count": 12,
   "id": "grave-porter",
   "metadata": {},
   "outputs": [
    {
     "name": "stdout",
     "output_type": "stream",
     "text": [
      "<PrivateKeyTestnet: mviPTU8ewY5wwxZUqtCoCGBsxnx7kWQuZF>\n"
     ]
    }
   ],
   "source": [
    "# setting sender BTCTEST account\n",
    "btctest_account = priv_key_to_account(BTCTEST,coins()[BTCTEST][1]['privkey'])\n",
    "\n",
    "print(btctest_account)"
   ]
  },
  {
   "cell_type": "code",
   "execution_count": 13,
   "id": "raising-infrared",
   "metadata": {},
   "outputs": [
    {
     "name": "stdout",
     "output_type": "stream",
     "text": [
      "n37EzV96Zbh9VrJATBsftJx4GsDheJ9Lb2\n"
     ]
    }
   ],
   "source": [
    "# setting a receiver BTCTEST address\n",
    "btctest_address = coins()[BTCTEST][0]['address']\n",
    "\n",
    "print(btctest_address)"
   ]
  },
  {
   "cell_type": "code",
   "execution_count": null,
   "id": "hungry-emphasis",
   "metadata": {},
   "outputs": [],
   "source": [
    "# setting up Web3 port\n",
    "w3 = Web3(Web3.HTTPProvider(\"http://127.0.0.1:8545\"))\n",
    "# connect to local ETH/ geth\n",
    "w3.middleware_onion.inject(geth_poa_middleware, layer=0)\n",
    "w3.eth.setGasPriceStrategy(medium_gas_price_strategy)"
   ]
  },
  {
   "cell_type": "code",
   "execution_count": 36,
   "id": "norman-stability",
   "metadata": {},
   "outputs": [],
   "source": [
    "# function to create raw, unsigned transaction\n",
    "def create_tx(coin, account, to, amount):\n",
    "    if coin == ETH:\n",
    "        gasEstimate = w3.eth.estimateGas({\n",
    "            \"from\": account.address, \n",
    "            \"to\": to, \n",
    "            \"value\": w3.toWei(amount,'ether')\n",
    "        })\n",
    "        return {\n",
    "            \"from\": account.address,\n",
    "            \"to\": to,\n",
    "            \"value\": w3.toWei(amount,'ether'),\n",
    "            \"gas\": gasEstimate,\n",
    "            \"gasPrice\": w3.eth.gasPrice,\n",
    "            \"nonce\": w3.eth.getTransactionCount(account.address),\n",
    "            \"chainId\": 967\n",
    "        }\n",
    "    elif coin == BTCTEST:\n",
    "        return PrivateKeyTestnet.prepare_transaction(account.address, [(to, amount, BTC)])\n",
    "    elif coin == LTC:\n",
    "        gasEstimate = w3.eth.estimateGas({\n",
    "            \"from\": account.address, \n",
    "            \"to\": to, \n",
    "            \"value\": w3.toWei(amount,'ltc') \n",
    "        })\n",
    "        return {\n",
    "            \"from\": account.address,\n",
    "            \"to\": to,\n",
    "            \"value\": w3.toWei(amount,'ltc') ,\n",
    "            \"gas\": gasEstimate,\n",
    "            \"gasPrice\": w3.eth.gasPrice,\n",
    "            \"nonce\": w3.eth.getTransactionCount(account.address)            \n",
    "        }"
   ]
  },
  {
   "cell_type": "code",
   "execution_count": 15,
   "id": "lesser-abortion",
   "metadata": {},
   "outputs": [],
   "source": [
    "# function to create, sign, and send transaction \n",
    "def send_tx(coin, account, recipient, amount):\n",
    "    \n",
    "    raw_tx = create_tx(coin, account, recipient, amount)\n",
    "    signed_tx = account.sign_transaction(raw_tx)\n",
    "    \n",
    "    if coin == ETH:\n",
    "        result = w3.eth.sendRawTransaction(signed_tx.rawTransaction)        \n",
    "        print(result.hex())\n",
    "        return result.hex()\n",
    "    elif coin == BTCTEST:\n",
    "        return NetworkAPI.broadcast_tx_testnet(signed_tx)\n",
    "    elif coin == LTC:\n",
    "        result = w3.eth.sendRawTransaction(signed_tx.rawTransaction)\n",
    "        return result"
   ]
  },
  {
   "cell_type": "markdown",
   "id": "consistent-teach",
   "metadata": {},
   "source": [
    "## BTC Testnet Transaction"
   ]
  },
  {
   "cell_type": "code",
   "execution_count": 16,
   "id": "flying-nursing",
   "metadata": {},
   "outputs": [
    {
     "name": "stdout",
     "output_type": "stream",
     "text": [
      "<PrivateKeyTestnet: mviPTU8ewY5wwxZUqtCoCGBsxnx7kWQuZF>\n"
     ]
    }
   ],
   "source": [
    "btc_acc = priv_key_to_account(BTCTEST,btc_PrivateKey)\n",
    "print(btc_acc)"
   ]
  },
  {
   "cell_type": "code",
   "execution_count": 17,
   "id": "velvet-silly",
   "metadata": {},
   "outputs": [
    {
     "data": {
      "text/plain": [
       "'{\"unspents\":[{\"amount\":10000,\"confirmations\":971,\"script\":\"76a914a6b3777f23267c726bf8e57c0d92039997a22b9a88ac\",\"txid\":\"13e5cdd4ad2077f8368e55d5ab17dcf944e717ea1982871c73f6326d9be0ee78\",\"txindex\":0,\"type\":\"p2pkh\",\"vsize\":148,\"segwit\":false,\"sequence\":4294967295},{\"amount\":10000,\"confirmations\":964,\"script\":\"76a914a6b3777f23267c726bf8e57c0d92039997a22b9a88ac\",\"txid\":\"f9c3dd02c7b60d27b6f51698c004de0082bfcb6f9c1d38d759919e45f04d7ff6\",\"txindex\":1,\"type\":\"p2pkh\",\"vsize\":148,\"segwit\":false,\"sequence\":4294967295},{\"amount\":10000,\"confirmations\":24,\"script\":\"76a914a6b3777f23267c726bf8e57c0d92039997a22b9a88ac\",\"txid\":\"b855c11fa305ed94db57edc707c4eae8638f131a816cbda7332e44f09f96f2bc\",\"txindex\":0,\"type\":\"p2pkh\",\"vsize\":148,\"segwit\":false,\"sequence\":4294967295},{\"amount\":10000,\"confirmations\":466,\"script\":\"76a914a6b3777f23267c726bf8e57c0d92039997a22b9a88ac\",\"txid\":\"546b4d1fdf1de285cb3c98cba15ff9baf1064fd5a63b9196817a7e762359fa29\",\"txindex\":1,\"type\":\"p2pkh\",\"vsize\":148,\"segwit\":false,\"sequence\":4294967295},{\"amount\":100000,\"confirmations\":461,\"script\":\"76a914a6b3777f23267c726bf8e57c0d92039997a22b9a88ac\",\"txid\":\"d75b3179298cfd1a70de17d59bda6b67213556bd4893c1bacfc46d8a974b9ff8\",\"txindex\":0,\"type\":\"p2pkh\",\"vsize\":148,\"segwit\":false,\"sequence\":4294967295},{\"amount\":10000,\"confirmations\":29,\"script\":\"76a914a6b3777f23267c726bf8e57c0d92039997a22b9a88ac\",\"txid\":\"f9b097368007df0b037803d130c741cab6d2a8398ad5efd2405b66cc612c5465\",\"txindex\":1,\"type\":\"p2pkh\",\"vsize\":148,\"segwit\":false,\"sequence\":4294967295}],\"outputs\":[[\"n37EzV96Zbh9VrJATBsftJx4GsDheJ9Lb2\",1],[\"mviPTU8ewY5wwxZUqtCoCGBsxnx7kWQuZF\",51467]]}'"
      ]
     },
     "execution_count": 17,
     "metadata": {},
     "output_type": "execute_result"
    }
   ],
   "source": [
    "# create BTC transaction\n",
    "create_tx(BTCTEST,btctest_account,btctest_address, 0.00000001)"
   ]
  },
  {
   "cell_type": "code",
   "execution_count": 18,
   "id": "bearing-cotton",
   "metadata": {},
   "outputs": [],
   "source": [
    "# sending BTCTEST transaction\n",
    "send_tx(BTCTEST,btctest_account,btctest_address,0.0001)"
   ]
  },
  {
   "cell_type": "markdown",
   "id": "limiting-commons",
   "metadata": {},
   "source": [
    "## ETH Transacation"
   ]
  },
  {
   "cell_type": "code",
   "execution_count": 20,
   "id": "flexible-harrison",
   "metadata": {},
   "outputs": [
    {
     "data": {
      "text/plain": [
       "True"
      ]
     },
     "execution_count": 20,
     "metadata": {},
     "output_type": "execute_result"
    }
   ],
   "source": [
    "# double check if  I am connected to blockchain. \n",
    "w3.isConnected()"
   ]
  },
  {
   "cell_type": "markdown",
   "id": "postal-reflection",
   "metadata": {},
   "source": [
    "## Check the Balance of the account with local mining blockchain"
   ]
  },
  {
   "cell_type": "code",
   "execution_count": 37,
   "id": "cosmetic-lobby",
   "metadata": {},
   "outputs": [
    {
     "data": {
      "text/plain": [
       "'0x30b3B7C9aE324A9C7830e2Ff22C159307e926428'"
      ]
     },
     "execution_count": 37,
     "metadata": {},
     "output_type": "execute_result"
    }
   ],
   "source": [
    "# setting sender ETH account\n",
    "eth_account = priv_key_to_account(ETH,coins()[ETH][1]['privkey'])\n",
    "\n",
    "eth_account.address"
   ]
  },
  {
   "cell_type": "code",
   "execution_count": 38,
   "id": "handy-joining",
   "metadata": {},
   "outputs": [
    {
     "data": {
      "text/plain": [
       "'Balance in source: 1499999979000000000400. Balance in target: 0'"
      ]
     },
     "execution_count": 38,
     "metadata": {},
     "output_type": "execute_result"
    }
   ],
   "source": [
    "# Display balances\n",
    "bal_from = w3.eth.getBalance(eth_account.address)\n",
    "bal_to = w3.eth.getBalance(\"0x63F4319fd95C861175332e08B5b9D4bcaA280785\")\n",
    "\n",
    "f'Balance in source: {bal_from}. Balance in target: {bal_to}'"
   ]
  },
  {
   "cell_type": "code",
   "execution_count": 40,
   "id": "still-continent",
   "metadata": {},
   "outputs": [
    {
     "data": {
      "text/plain": [
       "{'from': '0x30b3B7C9aE324A9C7830e2Ff22C159307e926428',\n",
       " 'to': '0x63F4319fd95C861175332e08B5b9D4bcaA280785',\n",
       " 'value': 400000000000000000000,\n",
       " 'gas': 21000,\n",
       " 'gasPrice': 1000000000,\n",
       " 'nonce': 1,\n",
       " 'chainId': 967}"
      ]
     },
     "execution_count": 40,
     "metadata": {},
     "output_type": "execute_result"
    }
   ],
   "source": [
    "create_tx(ETH,eth_account,\"0x63F4319fd95C861175332e08B5b9D4bcaA280785\", 400)"
   ]
  },
  {
   "cell_type": "code",
   "execution_count": 41,
   "id": "floral-abortion",
   "metadata": {},
   "outputs": [
    {
     "name": "stdout",
     "output_type": "stream",
     "text": [
      "0x909726eb8e9067174c0339ae5e59742b988b44e691634b35a994b033fb09231c\n"
     ]
    },
    {
     "data": {
      "text/plain": [
       "'0x909726eb8e9067174c0339ae5e59742b988b44e691634b35a994b033fb09231c'"
      ]
     },
     "execution_count": 41,
     "metadata": {},
     "output_type": "execute_result"
    }
   ],
   "source": [
    "send_tx(ETH, eth_account,\"0x63F4319fd95C861175332e08B5b9D4bcaA280785\", 400)"
   ]
  },
  {
   "cell_type": "markdown",
   "id": "swiss-gibson",
   "metadata": {},
   "source": [
    "## Confirm the Transaction"
   ]
  },
  {
   "cell_type": "code",
   "execution_count": 42,
   "id": "trained-sculpture",
   "metadata": {},
   "outputs": [
    {
     "data": {
      "text/plain": [
       "400000000000000000000"
      ]
     },
     "execution_count": 42,
     "metadata": {},
     "output_type": "execute_result"
    }
   ],
   "source": [
    "w3.eth.getBalance(\"0x63F4319fd95C861175332e08B5b9D4bcaA280785\")"
   ]
  },
  {
   "cell_type": "markdown",
   "id": "rolled-korea",
   "metadata": {},
   "source": [
    "## Transaction using BIT package"
   ]
  },
  {
   "cell_type": "code",
   "execution_count": 43,
   "id": "former-shareware",
   "metadata": {},
   "outputs": [
    {
     "data": {
      "text/plain": [
       "'0.01900803'"
      ]
     },
     "execution_count": 43,
     "metadata": {},
     "output_type": "execute_result"
    }
   ],
   "source": [
    "from bit import wif_to_key\n",
    "key = wif_to_key(\"cURHahiknDCQ74uHxr5PTVzvuvcd6NDpapUoWF6DvpF14XY6Zorb\")\n",
    "key.get_balance(BTC)"
   ]
  },
  {
   "cell_type": "code",
   "execution_count": 44,
   "id": "attached-strike",
   "metadata": {},
   "outputs": [
    {
     "data": {
      "text/plain": [
       "'0da34df228571f0cd93b9ed0ca805d0b46b30fb74ba17639de9352c539774905'"
      ]
     },
     "execution_count": 44,
     "metadata": {},
     "output_type": "execute_result"
    }
   ],
   "source": [
    "addresses = [\"mviPTU8ewY5wwxZUqtCoCGBsxnx7kWQuZF\",\"n3LUACXpQwtkCiKNBEeASurVxUTd1nmgAh\"]\n",
    "\n",
    "outputs = []\n",
    "\n",
    "for address in addresses:\n",
    "    # Insert code here\n",
    "    outputs.append((address, 0.0000001, BTC))\n",
    "    \n",
    "key.send(outputs)"
   ]
  },
  {
   "cell_type": "code",
   "execution_count": 45,
   "id": "fewer-merchandise",
   "metadata": {},
   "outputs": [
    {
     "data": {
      "text/plain": [
       "'1377.39'"
      ]
     },
     "execution_count": 45,
     "metadata": {},
     "output_type": "execute_result"
    }
   ],
   "source": [
    "key.balance_as('aud')"
   ]
  },
  {
   "cell_type": "code",
   "execution_count": 46,
   "id": "minor-worship",
   "metadata": {},
   "outputs": [
    {
     "data": {
      "text/plain": [
       "['0da34df228571f0cd93b9ed0ca805d0b46b30fb74ba17639de9352c539774905',\n",
       " 'f81d03f551ff6dd4266e8144c4692b84f0b45b07f45926ba30917a834a6ca65b',\n",
       " 'b855c11fa305ed94db57edc707c4eae8638f131a816cbda7332e44f09f96f2bc',\n",
       " 'eee0481e8691e7cd6a80115a34b30d146e7eabe93350842fe1b6fbe09b87401b',\n",
       " 'a4d3a14510e35e5ac8cd5336fc801cd0afae82f89537135c14ca46ac51387b55',\n",
       " 'd75b3179298cfd1a70de17d59bda6b67213556bd4893c1bacfc46d8a974b9ff8',\n",
       " '619c0a95434324d7a54cc16c2ae5f1fbdfcb6383068a00d6ebb86a2be637aac5',\n",
       " '3e73b154c4e1fc52833f1f68159f59ab25f733fd8bcda6e19cc2cebe31d2f229']"
      ]
     },
     "execution_count": 46,
     "metadata": {},
     "output_type": "execute_result"
    }
   ],
   "source": [
    "key.get_transactions()"
   ]
  },
  {
   "cell_type": "code",
   "execution_count": 47,
   "id": "mexican-macedonia",
   "metadata": {},
   "outputs": [
    {
     "name": "stdout",
     "output_type": "stream",
     "text": [
      "Unspent(amount=1859167, confirmations=0, script='76a914ecd6b8e21374a5cb6c7c6bdad772399a1cdcc33c88ac', txid='0da34df228571f0cd93b9ed0ca805d0b46b30fb74ba17639de9352c539774905', txindex=2, segwit=False, sequence=4294967295)\n",
      " \n"
     ]
    }
   ],
   "source": [
    "for x in key.get_unspents():\n",
    "    print(x)\n",
    "    print(' ')"
   ]
  },
  {
   "cell_type": "code",
   "execution_count": null,
   "id": "elect-cosmetic",
   "metadata": {},
   "outputs": [],
   "source": []
  }
 ],
 "metadata": {
  "kernelspec": {
   "display_name": "Python 3",
   "language": "python",
   "name": "python3"
  },
  "language_info": {
   "codemirror_mode": {
    "name": "ipython",
    "version": 3
   },
   "file_extension": ".py",
   "mimetype": "text/x-python",
   "name": "python",
   "nbconvert_exporter": "python",
   "pygments_lexer": "ipython3",
   "version": "3.8.3"
  }
 },
 "nbformat": 4,
 "nbformat_minor": 5
}
